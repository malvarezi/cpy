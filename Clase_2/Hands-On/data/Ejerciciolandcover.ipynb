{
 "cells": [
  {
   "cell_type": "code",
   "execution_count": 1,
   "metadata": {
    "collapsed": false
   },
   "outputs": [
    {
     "name": "stdout",
     "output_type": "stream",
     "text": [
      "[ 0  0  0 ..., 12 12 12]\n"
     ]
    }
   ],
   "source": [
    "#Ejercicio 1-tierra/agua\n",
    "import numpy as np\n",
    "#Abrimos el archivo como un array\n",
    "data=np.fromfile('gl-latlong-1km-landcover.bsq',dtype=np.uint8)\n",
    "print(data)"
   ]
  },
  {
   "cell_type": "code",
   "execution_count": 2,
   "metadata": {
    "collapsed": false
   },
   "outputs": [
    {
     "name": "stdout",
     "output_type": "stream",
     "text": [
      "933120000\n"
     ]
    }
   ],
   "source": [
    "#Vemos la longitud del archivo\n",
    "length_data=len(data)\n",
    "print(length_data)"
   ]
  },
  {
   "cell_type": "code",
   "execution_count": 3,
   "metadata": {
    "collapsed": false
   },
   "outputs": [
    {
     "name": "stdout",
     "output_type": "stream",
     "text": [
      "[[ 0  0  0 ...,  0  0  0]\n",
      " [ 0  0  0 ...,  0  0  0]\n",
      " [ 0  0  0 ...,  0  0  0]\n",
      " ..., \n",
      " [12 12 12 ..., 12 12 12]\n",
      " [12 12 12 ..., 12 12 12]\n",
      " [12 12 12 ..., 12 12 12]]\n"
     ]
    }
   ],
   "source": [
    "#Convertimos el array en una matriz (donde 21600 y 43200 son los pixeles)\n",
    "data_matriz=np.reshape(data,(21600,43200))\n",
    "print(data_matriz)"
   ]
  },
  {
   "cell_type": "code",
   "execution_count": 4,
   "metadata": {
    "collapsed": false
   },
   "outputs": [
    {
     "name": "stdout",
     "output_type": "stream",
     "text": [
      "21600\n"
     ]
    }
   ],
   "source": [
    "#Vemos la longitud de la matriz\n",
    "size_matriz=len(data_matriz)\n",
    "print(size_matriz)"
   ]
  },
  {
   "cell_type": "code",
   "execution_count": 12,
   "metadata": {
    "collapsed": false
   },
   "outputs": [
    {
     "name": "stdout",
     "output_type": "stream",
     "text": [
      "latitud(-90°-90°)45\n",
      "longitud (-180°-180°)24\n",
      "tierra\n"
     ]
    }
   ],
   "source": [
    "# Esto sirve para pedir que pongamos una langitud y longitud y nos devuelva el valor del punto (Los puntos van de 0 Agua a 12 (de 1 a 12 corresponden a distintas condiciones de suelo) )\n",
    "# Para eso pasamos de lat,long a posición en pixeles y luego vemos lo que corresponde para ese pixel\n",
    "lat=input('latitud(-90°-90°)')\n",
    "long=input('longitud (-180°-180°)')\n",
    "lat=int(lat)\n",
    "long=int(long)\n",
    "pixel_x=21600*(-1*lat+90)//180\n",
    "pixel_y=43200*(long+180)//360\n",
    "punto=data_matriz[pixel_x,pixel_y]\n",
    "\n",
    "#Si el valor del punto es 0 nos devuelve agua, si es distinto de 0 nos devuelve tierra\n",
    "\n",
    "if punto==0:\n",
    "   print('agua')\n",
    "else:\n",
    "   print('tierra')\n"
   ]
  },
  {
   "cell_type": "code",
   "execution_count": 11,
   "metadata": {
    "collapsed": false
   },
   "outputs": [
    {
     "data": {
      "text/plain": [
       "10"
      ]
     },
     "execution_count": 11,
     "metadata": {},
     "output_type": "execute_result"
    }
   ],
   "source": [
    "punto"
   ]
  },
  {
   "cell_type": "code",
   "execution_count": null,
   "metadata": {
    "collapsed": true
   },
   "outputs": [],
   "source": []
  }
 ],
 "metadata": {
  "anaconda-cloud": {},
  "kernelspec": {
   "display_name": "Python [Root]",
   "language": "python",
   "name": "Python [Root]"
  },
  "language_info": {
   "codemirror_mode": {
    "name": "ipython",
    "version": 3
   },
   "file_extension": ".py",
   "mimetype": "text/x-python",
   "name": "python",
   "nbconvert_exporter": "python",
   "pygments_lexer": "ipython3",
   "version": "3.5.2"
  }
 },
 "nbformat": 4,
 "nbformat_minor": 0
}
